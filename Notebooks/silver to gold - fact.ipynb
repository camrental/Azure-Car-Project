{
 "cells": [
  {
   "cell_type": "markdown",
   "metadata": {
    "application/vnd.databricks.v1+cell": {
     "cellMetadata": {
      "byteLimit": 2048000,
      "rowLimit": 10000
     },
     "inputWidgets": {},
     "nuid": "1e001564-942b-4c50-82d1-1e63bc7a9828",
     "showTitle": false,
     "tableResultSettingsMap": {},
     "title": ""
    }
   },
   "source": [
    "## Fact Table Creation"
   ]
  },
  {
   "cell_type": "code",
   "execution_count": 0,
   "metadata": {
    "application/vnd.databricks.v1+cell": {
     "cellMetadata": {
      "byteLimit": 2048000,
      "rowLimit": 10000
     },
     "inputWidgets": {},
     "nuid": "c1c2f165-e887-44d2-9d18-872f316c6954",
     "showTitle": false,
     "tableResultSettingsMap": {},
     "title": ""
    }
   },
   "outputs": [],
   "source": [
    "from pyspark.sql.functions import *\n",
    "from delta.tables import DeltaTable"
   ]
  },
  {
   "cell_type": "code",
   "execution_count": 0,
   "metadata": {
    "application/vnd.databricks.v1+cell": {
     "cellMetadata": {
      "byteLimit": 2048000,
      "rowLimit": 10000
     },
     "inputWidgets": {},
     "nuid": "74f12bb3-7b63-4223-b728-1b79f21631cf",
     "showTitle": false,
     "tableResultSettingsMap": {},
     "title": ""
    }
   },
   "outputs": [],
   "source": [
    "df_silver = spark.sql('''\n",
    "                      select * from parquet.`abfss://silver@carmpdatalake.dfs.core.windows.net/transformed_data`\n",
    "                      ''')"
   ]
  },
  {
   "cell_type": "code",
   "execution_count": 0,
   "metadata": {
    "application/vnd.databricks.v1+cell": {
     "cellMetadata": {
      "byteLimit": 2048000,
      "rowLimit": 10000
     },
     "inputWidgets": {},
     "nuid": "d1673732-ecf3-4e1f-bc4f-4c2b03653ae6",
     "showTitle": false,
     "tableResultSettingsMap": {},
     "title": ""
    }
   },
   "outputs": [],
   "source": [
    "df_dealer = spark.sql(\"select * from cars_catalog.gold.dim_dealer\")\n",
    "df_model = spark.sql(\"select * from cars_catalog.gold.dim_model\")\n",
    "df_branch = spark.sql(\"select * from cars_catalog.gold.dim_branch\")\n",
    "df_date = spark.sql(\"select * from cars_catalog.gold.dim_date\")"
   ]
  },
  {
   "cell_type": "code",
   "execution_count": 0,
   "metadata": {
    "application/vnd.databricks.v1+cell": {
     "cellMetadata": {
      "byteLimit": 2048000,
      "rowLimit": 10000
     },
     "inputWidgets": {},
     "nuid": "476005dc-90a0-43fb-9d0f-cf237b771a15",
     "showTitle": false,
     "tableResultSettingsMap": {},
     "title": ""
    }
   },
   "outputs": [],
   "source": [
    "df_fact = df_silver.join(df_dealer, df_silver['Dealer_ID'] == df_dealer['Dealer_ID'], 'left')\\\n",
    "                              .join(df_model, df_silver['Model_ID'] == df_model['Model_ID'], 'left')\\\n",
    "                              .join(df_branch, df_silver['Branch_ID'] == df_branch['Branch_ID'], 'left')\\\n",
    "                              .join(df_date, df_silver['Date_ID'] == df_date['Date_ID'], 'left')\\\n",
    "                              .select(df_silver['Revenue'], df_silver['Revenue_Per_Unit'], df_silver['Units_Sold'], df_dealer['dim_dealer_key'], df_model['dim_model_key'], df_branch['dim_branch_key'], df_date['dim_date_key'])    "
   ]
  },
  {
   "cell_type": "code",
   "execution_count": 0,
   "metadata": {
    "application/vnd.databricks.v1+cell": {
     "cellMetadata": {
      "byteLimit": 2048000,
      "rowLimit": 10000
     },
     "inputWidgets": {},
     "nuid": "bead4112-0d6d-407e-b96f-5164f02f6ae7",
     "showTitle": false,
     "tableResultSettingsMap": {},
     "title": ""
    }
   },
   "outputs": [],
   "source": [
    "if spark.catalog.tableExists('cars_catalog.gold.fact_sales'):\n",
    "    delta_tbl = DeltaTable.forPath(spark, 'abfss://gold@carmpdatalake.dfs.core.windows.net/fact_sales')\n",
    "    delta_tbl.alias('t').merge(df_fact.alias('s'), 't.dim_dealer_key = s.dim_dealer_key AND t.dim_model_key = s.dim_model_key AND t.dim_branch_key = s.dim_branch_key AND t.dim_date_key = s.dim_date_key')\\\n",
    "        .whenMatchedUpdateAll()\\\n",
    "        .whenNotMatchedInsertAll()\\\n",
    "        .execute()\n",
    "else:\n",
    "    df_fact.write.format('delta')\\\n",
    "           .mode('overwrite')\\\n",
    "           .option('path', 'abfss://gold@carmpdatalake.dfs.core.windows.net/fact_sales')\\\n",
    "           .saveAsTable('cars_catalog.gold.fact_sales') "
   ]
  },
  {
   "cell_type": "code",
   "execution_count": 0,
   "metadata": {
    "application/vnd.databricks.v1+cell": {
     "cellMetadata": {
      "byteLimit": 2048000,
      "implicitDf": true,
      "rowLimit": 10000
     },
     "inputWidgets": {},
     "nuid": "3444cb25-6d73-413f-b858-d6516a911f02",
     "showTitle": false,
     "tableResultSettingsMap": {},
     "title": ""
    }
   },
   "outputs": [],
   "source": [
    "%sql\n",
    "select count(*) from cars_catalog.gold.fact_sales;"
   ]
  }
 ],
 "metadata": {
  "application/vnd.databricks.v1+notebook": {
   "computePreferences": null,
   "dashboards": [],
   "environmentMetadata": {
    "base_environment": "",
    "environment_version": "2"
   },
   "language": "python",
   "notebookMetadata": {
    "mostRecentlyExecutedCommandWithImplicitDF": {
     "commandId": 5982812781852371,
     "dataframes": [
      "_sqldf"
     ]
    },
    "pythonIndentUnit": 4
   },
   "notebookName": "silver to gold - fact",
   "widgets": {}
  },
  "language_info": {
   "name": "python"
  }
 },
 "nbformat": 4,
 "nbformat_minor": 0
}
